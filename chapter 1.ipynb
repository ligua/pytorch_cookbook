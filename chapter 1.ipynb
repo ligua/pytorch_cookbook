{
 "cells": [
  {
   "cell_type": "markdown",
   "metadata": {},
   "source": [
    "## Pytorch的诞生"
   ]
  },
  {
   "cell_type": "markdown",
   "metadata": {},
   "source": [
    "对TensorFlow的批评\n",
    "- 过于复杂的系统设计\n",
    "- 频繁变动的接口\n",
    "- 接口的设计过于晦涩\n",
    "- 文档管理混乱\n",
    "\n",
    "最流行的深度学习框架，社区强大适合生产环境"
   ]
  },
  {
   "cell_type": "markdown",
   "metadata": {},
   "source": [
    "Keras\n",
    "\n",
    "高层神经网络API，由TensorFlow， Theano， CNTK作为后端\n",
    "- 过度封装使得丧失灵活性\n",
    "- 最慢速度"
   ]
  },
  {
   "cell_type": "markdown",
   "metadata": {},
   "source": [
    "属于动态图的未来\n",
    "\n",
    "所有的框架都是基于计算图的\n",
    "\n",
    "静态计算图\n",
    "- 先定义再运行（define and run）\n",
    "- 一次定义多次运行\n",
    "- tensorflow\n",
    "\n",
    "动态计算图\n",
    "- 动态计算图是再运行过程中被定义的，计算图随着代码运行而构建\n",
    "- define by run\n",
    "- 多次构建多次运行\n",
    "- pytorh\n",
    "- 和python本身的语法一直\n"
   ]
  },
  {
   "cell_type": "markdown",
   "metadata": {},
   "source": [
    "Pytorch\n",
    "\n",
    "优点\n",
    "- 简洁：遵循的抽象层次：tensor->variable(autograd)->nn.Module，即高维数组（张量），自动求导（变量），神经网络（层，模块）\n",
    "- 速度：灵活性不以速度为代价\n",
    "- 易用：所思即所得\n",
    "- 活跃社区"
   ]
  },
  {
   "cell_type": "code",
   "execution_count": null,
   "metadata": {
    "collapsed": true
   },
   "outputs": [],
   "source": []
  }
 ],
 "metadata": {
  "kernelspec": {
   "display_name": "Python 3",
   "language": "python",
   "name": "python3"
  },
  "language_info": {
   "codemirror_mode": {
    "name": "ipython",
    "version": 3
   },
   "file_extension": ".py",
   "mimetype": "text/x-python",
   "name": "python",
   "nbconvert_exporter": "python",
   "pygments_lexer": "ipython3",
   "version": "3.6.2"
  }
 },
 "nbformat": 4,
 "nbformat_minor": 2
}
